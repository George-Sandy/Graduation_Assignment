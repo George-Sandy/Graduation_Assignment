{
 "cells": [
  {
   "cell_type": "code",
   "execution_count": null,
   "metadata": {
    "_cell_guid": "b1076dfc-b9ad-4769-8c92-a6c4dae69d19",
    "_uuid": "8f2839f25d086af736a60e9eeb907d3b93b6e0e5",
    "execution": {
     "iopub.execute_input": "2021-10-11T10:00:09.098843Z",
     "iopub.status.busy": "2021-10-11T10:00:09.097752Z",
     "iopub.status.idle": "2021-10-11T10:00:09.116872Z",
     "shell.execute_reply": "2021-10-11T10:00:09.117440Z",
     "shell.execute_reply.started": "2021-10-11T09:59:28.588573Z"
    },
    "papermill": {
     "duration": 0.04413,
     "end_time": "2021-10-11T10:00:09.117725",
     "exception": false,
     "start_time": "2021-10-11T10:00:09.073595",
     "status": "completed"
    },
    "tags": []
   },
   "outputs": [],
   "source": []
  },
  {
   "cell_type": "markdown",
   "metadata": {},
   "source": [
    "# DIC Graduation Project\n",
    "### Solving Real Problems in Sireea Leone Using Machine Learning\n",
    "### Stroke Prediction dataset In Sierra Leone"
   ]
  },
  {
   "cell_type": "code",
   "execution_count": null,
   "metadata": {},
   "outputs": [],
   "source": [
    "# This Python 3 environment comes with many helpful analytics libraries installed\n",
    "# It is defined by the kaggle/python Docker image: https://github.com/kaggle/docker-python\n",
    "# For example, here's several helpful packages to load\n",
    "\n",
    "import numpy as np # linear algebra\n",
    "import pandas as pd # data processing, CSV file I/O (e.g. pd.read_csv)\n",
    "\n",
    "# Input data files are available in the read-only \"../input/\" directory\n",
    "# For example, running this (by clicking run or pressing Shift+Enter) will list all files under the input directory\n",
    "\n",
    "import os\n",
    "for dirname, _, filenames in os.walk('/kaggle/input'):\n",
    "    for filename in filenames:\n",
    "        print(os.path.join(dirname, filename))\n",
    "\n",
    "# You can write up to 20GB to the current directory (/kaggle/working/) that gets preserved as output when you create a version using \"Save & Run All\" \n",
    "# You can also write temporary files to /kaggle/temp/, but they won't be saved outside of the current session"
   ]
  },
  {
   "cell_type": "markdown",
   "metadata": {
    "papermill": {
     "duration": 0.018926,
     "end_time": "2021-10-11T10:00:09.156816",
     "exception": false,
     "start_time": "2021-10-11T10:00:09.137890",
     "status": "completed"
    },
    "tags": []
   },
   "source": [
    "We first look at our data to see what we're dealing with.  \n",
    "\n",
    "Some of the steps we can take to understand our data:  \n",
    "* Get the mean, median, mode\n",
    "* Check for outliers and missing data\n",
    "* Form boxplots to view our distribution\n",
    "  \n",
    "Formally, the steps we'll take to carry out our prediction are as below:  \n",
    "1. Understanding the data\n",
    "2. Cleaning the data\n",
    "3. Create our prediction models\n",
    "4. Test and validate our prediction models\n",
    "5. Conclude with insights"
   ]
  },
  {
   "cell_type": "code",
   "execution_count": 2,
   "metadata": {
    "execution": {
     "iopub.execute_input": "2021-10-11T10:00:09.199239Z",
     "iopub.status.busy": "2021-10-11T10:00:09.198622Z",
     "iopub.status.idle": "2021-10-11T10:00:09.259145Z",
     "shell.execute_reply": "2021-10-11T10:00:09.258646Z",
     "shell.execute_reply.started": "2021-10-11T09:59:28.602096Z"
    },
    "papermill": {
     "duration": 0.083468,
     "end_time": "2021-10-11T10:00:09.259277",
     "exception": false,
     "start_time": "2021-10-11T10:00:09.175809",
     "status": "completed"
    },
    "tags": []
   },
   "outputs": [
    {
     "name": "stdout",
     "output_type": "stream",
     "text": [
      "<class 'pandas.core.frame.DataFrame'>\n",
      "(5110, 12)\n",
      "Index(['id', 'gender', 'age', 'hypertension', 'heart_disease', 'ever_married',\n",
      "       'work_type', 'Residence_type', 'avg_glucose_level', 'bmi',\n",
      "       'smoking_status', 'stroke'],\n",
      "      dtype='object')\n"
     ]
    },
    {
     "data": {
      "text/html": [
       "<div>\n",
       "<style scoped>\n",
       "    .dataframe tbody tr th:only-of-type {\n",
       "        vertical-align: middle;\n",
       "    }\n",
       "\n",
       "    .dataframe tbody tr th {\n",
       "        vertical-align: top;\n",
       "    }\n",
       "\n",
       "    .dataframe thead th {\n",
       "        text-align: right;\n",
       "    }\n",
       "</style>\n",
       "<table border=\"1\" class=\"dataframe\">\n",
       "  <thead>\n",
       "    <tr style=\"text-align: right;\">\n",
       "      <th></th>\n",
       "      <th>id</th>\n",
       "      <th>gender</th>\n",
       "      <th>age</th>\n",
       "      <th>hypertension</th>\n",
       "      <th>heart_disease</th>\n",
       "      <th>ever_married</th>\n",
       "      <th>work_type</th>\n",
       "      <th>Residence_type</th>\n",
       "      <th>avg_glucose_level</th>\n",
       "      <th>bmi</th>\n",
       "      <th>smoking_status</th>\n",
       "      <th>stroke</th>\n",
       "    </tr>\n",
       "  </thead>\n",
       "  <tbody>\n",
       "    <tr>\n",
       "      <th>0</th>\n",
       "      <td>9046</td>\n",
       "      <td>Male</td>\n",
       "      <td>67.0</td>\n",
       "      <td>0</td>\n",
       "      <td>1</td>\n",
       "      <td>Yes</td>\n",
       "      <td>Private</td>\n",
       "      <td>Urban</td>\n",
       "      <td>228.69</td>\n",
       "      <td>36.6</td>\n",
       "      <td>formerly smoked</td>\n",
       "      <td>1</td>\n",
       "    </tr>\n",
       "    <tr>\n",
       "      <th>1</th>\n",
       "      <td>51676</td>\n",
       "      <td>Female</td>\n",
       "      <td>61.0</td>\n",
       "      <td>0</td>\n",
       "      <td>0</td>\n",
       "      <td>Yes</td>\n",
       "      <td>Self-employed</td>\n",
       "      <td>Rural</td>\n",
       "      <td>202.21</td>\n",
       "      <td>NaN</td>\n",
       "      <td>never smoked</td>\n",
       "      <td>1</td>\n",
       "    </tr>\n",
       "    <tr>\n",
       "      <th>2</th>\n",
       "      <td>31112</td>\n",
       "      <td>Male</td>\n",
       "      <td>80.0</td>\n",
       "      <td>0</td>\n",
       "      <td>1</td>\n",
       "      <td>Yes</td>\n",
       "      <td>Private</td>\n",
       "      <td>Rural</td>\n",
       "      <td>105.92</td>\n",
       "      <td>32.5</td>\n",
       "      <td>never smoked</td>\n",
       "      <td>1</td>\n",
       "    </tr>\n",
       "    <tr>\n",
       "      <th>3</th>\n",
       "      <td>60182</td>\n",
       "      <td>Female</td>\n",
       "      <td>49.0</td>\n",
       "      <td>0</td>\n",
       "      <td>0</td>\n",
       "      <td>Yes</td>\n",
       "      <td>Private</td>\n",
       "      <td>Urban</td>\n",
       "      <td>171.23</td>\n",
       "      <td>34.4</td>\n",
       "      <td>smokes</td>\n",
       "      <td>1</td>\n",
       "    </tr>\n",
       "    <tr>\n",
       "      <th>4</th>\n",
       "      <td>1665</td>\n",
       "      <td>Female</td>\n",
       "      <td>79.0</td>\n",
       "      <td>1</td>\n",
       "      <td>0</td>\n",
       "      <td>Yes</td>\n",
       "      <td>Self-employed</td>\n",
       "      <td>Rural</td>\n",
       "      <td>174.12</td>\n",
       "      <td>24.0</td>\n",
       "      <td>never smoked</td>\n",
       "      <td>1</td>\n",
       "    </tr>\n",
       "    <tr>\n",
       "      <th>5</th>\n",
       "      <td>56669</td>\n",
       "      <td>Male</td>\n",
       "      <td>81.0</td>\n",
       "      <td>0</td>\n",
       "      <td>0</td>\n",
       "      <td>Yes</td>\n",
       "      <td>Private</td>\n",
       "      <td>Urban</td>\n",
       "      <td>186.21</td>\n",
       "      <td>29.0</td>\n",
       "      <td>formerly smoked</td>\n",
       "      <td>1</td>\n",
       "    </tr>\n",
       "    <tr>\n",
       "      <th>6</th>\n",
       "      <td>53882</td>\n",
       "      <td>Male</td>\n",
       "      <td>74.0</td>\n",
       "      <td>1</td>\n",
       "      <td>1</td>\n",
       "      <td>Yes</td>\n",
       "      <td>Private</td>\n",
       "      <td>Rural</td>\n",
       "      <td>70.09</td>\n",
       "      <td>27.4</td>\n",
       "      <td>never smoked</td>\n",
       "      <td>1</td>\n",
       "    </tr>\n",
       "    <tr>\n",
       "      <th>7</th>\n",
       "      <td>10434</td>\n",
       "      <td>Female</td>\n",
       "      <td>69.0</td>\n",
       "      <td>0</td>\n",
       "      <td>0</td>\n",
       "      <td>No</td>\n",
       "      <td>Private</td>\n",
       "      <td>Urban</td>\n",
       "      <td>94.39</td>\n",
       "      <td>22.8</td>\n",
       "      <td>never smoked</td>\n",
       "      <td>1</td>\n",
       "    </tr>\n",
       "    <tr>\n",
       "      <th>8</th>\n",
       "      <td>27419</td>\n",
       "      <td>Female</td>\n",
       "      <td>59.0</td>\n",
       "      <td>0</td>\n",
       "      <td>0</td>\n",
       "      <td>Yes</td>\n",
       "      <td>Private</td>\n",
       "      <td>Rural</td>\n",
       "      <td>76.15</td>\n",
       "      <td>NaN</td>\n",
       "      <td>Unknown</td>\n",
       "      <td>1</td>\n",
       "    </tr>\n",
       "    <tr>\n",
       "      <th>9</th>\n",
       "      <td>60491</td>\n",
       "      <td>Female</td>\n",
       "      <td>78.0</td>\n",
       "      <td>0</td>\n",
       "      <td>0</td>\n",
       "      <td>Yes</td>\n",
       "      <td>Private</td>\n",
       "      <td>Urban</td>\n",
       "      <td>58.57</td>\n",
       "      <td>24.2</td>\n",
       "      <td>Unknown</td>\n",
       "      <td>1</td>\n",
       "    </tr>\n",
       "  </tbody>\n",
       "</table>\n",
       "</div>"
      ],
      "text/plain": [
       "      id  gender   age  hypertension  heart_disease ever_married  \\\n",
       "0   9046    Male  67.0             0              1          Yes   \n",
       "1  51676  Female  61.0             0              0          Yes   \n",
       "2  31112    Male  80.0             0              1          Yes   \n",
       "3  60182  Female  49.0             0              0          Yes   \n",
       "4   1665  Female  79.0             1              0          Yes   \n",
       "5  56669    Male  81.0             0              0          Yes   \n",
       "6  53882    Male  74.0             1              1          Yes   \n",
       "7  10434  Female  69.0             0              0           No   \n",
       "8  27419  Female  59.0             0              0          Yes   \n",
       "9  60491  Female  78.0             0              0          Yes   \n",
       "\n",
       "       work_type Residence_type  avg_glucose_level   bmi   smoking_status  \\\n",
       "0        Private          Urban             228.69  36.6  formerly smoked   \n",
       "1  Self-employed          Rural             202.21   NaN     never smoked   \n",
       "2        Private          Rural             105.92  32.5     never smoked   \n",
       "3        Private          Urban             171.23  34.4           smokes   \n",
       "4  Self-employed          Rural             174.12  24.0     never smoked   \n",
       "5        Private          Urban             186.21  29.0  formerly smoked   \n",
       "6        Private          Rural              70.09  27.4     never smoked   \n",
       "7        Private          Urban              94.39  22.8     never smoked   \n",
       "8        Private          Rural              76.15   NaN          Unknown   \n",
       "9        Private          Urban              58.57  24.2          Unknown   \n",
       "\n",
       "   stroke  \n",
       "0       1  \n",
       "1       1  \n",
       "2       1  \n",
       "3       1  \n",
       "4       1  \n",
       "5       1  \n",
       "6       1  \n",
       "7       1  \n",
       "8       1  \n",
       "9       1  "
      ]
     },
     "metadata": {},
     "output_type": "display_data"
    },
    {
     "name": "stdout",
     "output_type": "stream",
     "text": [
      "{int64: ['id', 'hypertension', 'heart_disease', 'stroke'], float64: ['age', 'avg_glucose_level', 'bmi'], object: ['gender', 'ever_married', 'work_type', 'Residence_type', 'smoking_status']}\n"
     ]
    }
   ],
   "source": [
    "data = pd.read_csv('/kaggle/input/stroke-prediction-dataset/healthcare-dataset-stroke-data.csv')\n",
    "\n",
    "#We see that we're working with a DataFrame\n",
    "print(type(data))\n",
    "\n",
    "#first we check how many datapoints and features we have\n",
    "print(data.shape)\n",
    "print(data.columns)\n",
    "\n",
    "#we use head(10) to check how the data roughly looks like with the first 10 samples\n",
    "display(data.head(10))\n",
    "\n",
    "#display column data types \n",
    "print(data.columns.to_series().groupby(data.dtypes).groups)\n"
   ]
  },
  {
   "cell_type": "markdown",
   "metadata": {
    "papermill": {
     "duration": 0.020183,
     "end_time": "2021-10-11T10:00:09.301555",
     "exception": false,
     "start_time": "2021-10-11T10:00:09.281372",
     "status": "completed"
    },
    "tags": []
   },
   "source": [
    "* We can check the statistics for float columns such as age, avg_glucose_level, and bmi.\n",
    "* We also note that we have missing values in bmi and possibly in other features as well.    \n",
    "  \n",
    "Our next steps will be to check for duplicates and missing values then we proceed to get the statistics of our data.\n"
   ]
  },
  {
   "cell_type": "code",
   "execution_count": 3,
   "metadata": {
    "execution": {
     "iopub.execute_input": "2021-10-11T10:00:09.349520Z",
     "iopub.status.busy": "2021-10-11T10:00:09.348847Z",
     "iopub.status.idle": "2021-10-11T10:00:09.366996Z",
     "shell.execute_reply": "2021-10-11T10:00:09.367465Z",
     "shell.execute_reply.started": "2021-10-11T09:59:28.645489Z"
    },
    "papermill": {
     "duration": 0.04573,
     "end_time": "2021-10-11T10:00:09.367637",
     "exception": false,
     "start_time": "2021-10-11T10:00:09.321907",
     "status": "completed"
    },
    "tags": []
   },
   "outputs": [
    {
     "data": {
      "text/html": [
       "<div>\n",
       "<style scoped>\n",
       "    .dataframe tbody tr th:only-of-type {\n",
       "        vertical-align: middle;\n",
       "    }\n",
       "\n",
       "    .dataframe tbody tr th {\n",
       "        vertical-align: top;\n",
       "    }\n",
       "\n",
       "    .dataframe thead th {\n",
       "        text-align: right;\n",
       "    }\n",
       "</style>\n",
       "<table border=\"1\" class=\"dataframe\">\n",
       "  <thead>\n",
       "    <tr style=\"text-align: right;\">\n",
       "      <th></th>\n",
       "      <th>age</th>\n",
       "      <th>avg_glucose_level</th>\n",
       "      <th>bmi</th>\n",
       "    </tr>\n",
       "  </thead>\n",
       "  <tbody>\n",
       "    <tr>\n",
       "      <th>count</th>\n",
       "      <td>5110.000000</td>\n",
       "      <td>5110.000000</td>\n",
       "      <td>4909.000000</td>\n",
       "    </tr>\n",
       "    <tr>\n",
       "      <th>mean</th>\n",
       "      <td>43.226614</td>\n",
       "      <td>106.147677</td>\n",
       "      <td>28.893237</td>\n",
       "    </tr>\n",
       "    <tr>\n",
       "      <th>std</th>\n",
       "      <td>22.612647</td>\n",
       "      <td>45.283560</td>\n",
       "      <td>7.854067</td>\n",
       "    </tr>\n",
       "    <tr>\n",
       "      <th>min</th>\n",
       "      <td>0.080000</td>\n",
       "      <td>55.120000</td>\n",
       "      <td>10.300000</td>\n",
       "    </tr>\n",
       "    <tr>\n",
       "      <th>25%</th>\n",
       "      <td>25.000000</td>\n",
       "      <td>77.245000</td>\n",
       "      <td>23.500000</td>\n",
       "    </tr>\n",
       "    <tr>\n",
       "      <th>50%</th>\n",
       "      <td>45.000000</td>\n",
       "      <td>91.885000</td>\n",
       "      <td>28.100000</td>\n",
       "    </tr>\n",
       "    <tr>\n",
       "      <th>75%</th>\n",
       "      <td>61.000000</td>\n",
       "      <td>114.090000</td>\n",
       "      <td>33.100000</td>\n",
       "    </tr>\n",
       "    <tr>\n",
       "      <th>max</th>\n",
       "      <td>82.000000</td>\n",
       "      <td>271.740000</td>\n",
       "      <td>97.600000</td>\n",
       "    </tr>\n",
       "  </tbody>\n",
       "</table>\n",
       "</div>"
      ],
      "text/plain": [
       "               age  avg_glucose_level          bmi\n",
       "count  5110.000000        5110.000000  4909.000000\n",
       "mean     43.226614         106.147677    28.893237\n",
       "std      22.612647          45.283560     7.854067\n",
       "min       0.080000          55.120000    10.300000\n",
       "25%      25.000000          77.245000    23.500000\n",
       "50%      45.000000          91.885000    28.100000\n",
       "75%      61.000000         114.090000    33.100000\n",
       "max      82.000000         271.740000    97.600000"
      ]
     },
     "metadata": {},
     "output_type": "display_data"
    }
   ],
   "source": [
    "float_cats = data[['age', 'avg_glucose_level', 'bmi']]\n",
    "display(float_cats.describe())"
   ]
  },
  {
   "cell_type": "markdown",
   "metadata": {
    "papermill": {
     "duration": 0.021548,
     "end_time": "2021-10-11T10:00:09.410183",
     "exception": false,
     "start_time": "2021-10-11T10:00:09.388635",
     "status": "completed"
    },
    "tags": []
   },
   "source": [
    "* Participant age ranges from 29 days old to 82 years\n",
    "* minimum bmi is 10.3 while maximum is 97.6"
   ]
  },
  {
   "cell_type": "code",
   "execution_count": 4,
   "metadata": {
    "execution": {
     "iopub.execute_input": "2021-10-11T10:00:09.454838Z",
     "iopub.status.busy": "2021-10-11T10:00:09.454229Z",
     "iopub.status.idle": "2021-10-11T10:00:09.462331Z",
     "shell.execute_reply": "2021-10-11T10:00:09.462741Z",
     "shell.execute_reply.started": "2021-10-11T09:59:28.670641Z"
    },
    "papermill": {
     "duration": 0.031992,
     "end_time": "2021-10-11T10:00:09.462908",
     "exception": false,
     "start_time": "2021-10-11T10:00:09.430916",
     "status": "completed"
    },
    "tags": []
   },
   "outputs": [
    {
     "name": "stdout",
     "output_type": "stream",
     "text": [
      "Empty DataFrame\n",
      "Columns: [id, gender, age, hypertension, heart_disease, ever_married, work_type, Residence_type, avg_glucose_level, bmi, smoking_status, stroke]\n",
      "Index: []\n"
     ]
    }
   ],
   "source": [
    "#Duplicates\n",
    "duplicates= data.duplicated('id', keep =False)\n",
    "duplicated_strokes= data[duplicates].sort_values('id')\n",
    "print(duplicated_strokes)"
   ]
  },
  {
   "cell_type": "markdown",
   "metadata": {
    "papermill": {
     "duration": 0.021498,
     "end_time": "2021-10-11T10:00:09.505643",
     "exception": false,
     "start_time": "2021-10-11T10:00:09.484145",
     "status": "completed"
    },
    "tags": []
   },
   "source": [
    "So we see that this data set doesn't have duplicated data since the 'extraction' is an empty DataFrame."
   ]
  },
  {
   "cell_type": "code",
   "execution_count": 5,
   "metadata": {
    "execution": {
     "iopub.execute_input": "2021-10-11T10:00:09.554132Z",
     "iopub.status.busy": "2021-10-11T10:00:09.553508Z",
     "iopub.status.idle": "2021-10-11T10:00:11.015363Z",
     "shell.execute_reply": "2021-10-11T10:00:11.015764Z",
     "shell.execute_reply.started": "2021-10-11T09:59:28.681040Z"
    },
    "papermill": {
     "duration": 1.488917,
     "end_time": "2021-10-11T10:00:11.015942",
     "exception": false,
     "start_time": "2021-10-11T10:00:09.527025",
     "status": "completed"
    },
    "tags": []
   },
   "outputs": [
    {
     "name": "stdout",
     "output_type": "stream",
     "text": [
      "id     gender  age    hypertension  heart_disease  ever_married  work_type  Residence_type  avg_glucose_level  bmi    smoking_status  stroke\n",
      "False  False   False  False         False          False         False      False           False              False  False           False     4909\n",
      "                                                                                                               True   False           False      201\n",
      "dtype: int64\n"
     ]
    },
    {
     "data": {
      "text/plain": [
       "<AxesSubplot:>"
      ]
     },
     "execution_count": 5,
     "metadata": {},
     "output_type": "execute_result"
    },
    {
     "data": {
      "image/png": "[encoded data removed]",
      "text/plain": [
       "<Figure size 1800x720 with 2 Axes>"
      ]
     },
     "metadata": {
      "needs_background": "light"
     },
     "output_type": "display_data"
    }
   ],
   "source": [
    "#Missing values\n",
    "import missingno as msno\n",
    "null_values= data.isnull().value_counts()\n",
    "print(null_values)\n",
    "msno.matrix(data)"
   ]
  },
  {
   "cell_type": "markdown",
   "metadata": {
    "papermill": {
     "duration": 0.023449,
     "end_time": "2021-10-11T10:00:11.062973",
     "exception": false,
     "start_time": "2021-10-11T10:00:11.039524",
     "status": "completed"
    },
    "tags": []
   },
   "source": [
    "When it comes to null values we see that bmi has 201 missing values and it's the only column that has missing values.\n",
    "Rather than erasing 200+ data points, let's try and understand why some bmi values are missing."
   ]
  },
  {
   "cell_type": "code",
   "execution_count": 6,
   "metadata": {
    "execution": {
     "iopub.execute_input": "2021-10-11T10:00:11.117117Z",
     "iopub.status.busy": "2021-10-11T10:00:11.116100Z",
     "iopub.status.idle": "2021-10-11T10:00:12.288311Z",
     "shell.execute_reply": "2021-10-11T10:00:12.288763Z",
     "shell.execute_reply.started": "2021-10-11T09:59:29.240408Z"
    },
    "papermill": {
     "duration": 1.202101,
     "end_time": "2021-10-11T10:00:12.288926",
     "exception": false,
     "start_time": "2021-10-11T10:00:11.086825",
     "status": "completed"
    },
    "tags": []
   },
   "outputs": [
    {
     "data": {
      "text/html": [
       "<div>\n",
       "<style scoped>\n",
       "    .dataframe tbody tr th:only-of-type {\n",
       "        vertical-align: middle;\n",
       "    }\n",
       "\n",
       "    .dataframe tbody tr th {\n",
       "        vertical-align: top;\n",
       "    }\n",
       "\n",
       "    .dataframe thead th {\n",
       "        text-align: right;\n",
       "    }\n",
       "</style>\n",
       "<table border=\"1\" class=\"dataframe\">\n",
       "  <thead>\n",
       "    <tr style=\"text-align: right;\">\n",
       "      <th></th>\n",
       "      <th>id</th>\n",
       "      <th>gender</th>\n",
       "      <th>age</th>\n",
       "      <th>hypertension</th>\n",
       "      <th>heart_disease</th>\n",
       "      <th>ever_married</th>\n",
       "      <th>work_type</th>\n",
       "      <th>Residence_type</th>\n",
       "      <th>avg_glucose_level</th>\n",
       "      <th>bmi</th>\n",
       "      <th>smoking_status</th>\n",
       "      <th>stroke</th>\n",
       "    </tr>\n",
       "  </thead>\n",
       "  <tbody>\n",
       "    <tr>\n",
       "      <th>3295</th>\n",
       "      <td>29955</td>\n",
       "      <td>Male</td>\n",
       "      <td>0.08</td>\n",
       "      <td>0</td>\n",
       "      <td>0</td>\n",
       "      <td>No</td>\n",
       "      <td>children</td>\n",
       "      <td>Rural</td>\n",
       "      <td>70.33</td>\n",
       "      <td>16.9</td>\n",
       "      <td>Unknown</td>\n",
       "      <td>0</td>\n",
       "    </tr>\n",
       "    <tr>\n",
       "      <th>1614</th>\n",
       "      <td>47350</td>\n",
       "      <td>Female</td>\n",
       "      <td>0.08</td>\n",
       "      <td>0</td>\n",
       "      <td>0</td>\n",
       "      <td>No</td>\n",
       "      <td>children</td>\n",
       "      <td>Urban</td>\n",
       "      <td>139.67</td>\n",
       "      <td>14.1</td>\n",
       "      <td>Unknown</td>\n",
       "      <td>0</td>\n",
       "    </tr>\n",
       "    <tr>\n",
       "      <th>3618</th>\n",
       "      <td>22877</td>\n",
       "      <td>Male</td>\n",
       "      <td>0.16</td>\n",
       "      <td>0</td>\n",
       "      <td>0</td>\n",
       "      <td>No</td>\n",
       "      <td>children</td>\n",
       "      <td>Urban</td>\n",
       "      <td>114.71</td>\n",
       "      <td>17.4</td>\n",
       "      <td>Unknown</td>\n",
       "      <td>0</td>\n",
       "    </tr>\n",
       "    <tr>\n",
       "      <th>4021</th>\n",
       "      <td>8247</td>\n",
       "      <td>Male</td>\n",
       "      <td>0.16</td>\n",
       "      <td>0</td>\n",
       "      <td>0</td>\n",
       "      <td>No</td>\n",
       "      <td>children</td>\n",
       "      <td>Urban</td>\n",
       "      <td>109.52</td>\n",
       "      <td>13.9</td>\n",
       "      <td>Unknown</td>\n",
       "      <td>0</td>\n",
       "    </tr>\n",
       "    <tr>\n",
       "      <th>3968</th>\n",
       "      <td>41500</td>\n",
       "      <td>Male</td>\n",
       "      <td>0.16</td>\n",
       "      <td>0</td>\n",
       "      <td>0</td>\n",
       "      <td>No</td>\n",
       "      <td>children</td>\n",
       "      <td>Rural</td>\n",
       "      <td>69.79</td>\n",
       "      <td>13.0</td>\n",
       "      <td>Unknown</td>\n",
       "      <td>0</td>\n",
       "    </tr>\n",
       "    <tr>\n",
       "      <th>3392</th>\n",
       "      <td>11371</td>\n",
       "      <td>Male</td>\n",
       "      <td>0.24</td>\n",
       "      <td>0</td>\n",
       "      <td>0</td>\n",
       "      <td>No</td>\n",
       "      <td>children</td>\n",
       "      <td>Urban</td>\n",
       "      <td>89.28</td>\n",
       "      <td>14.2</td>\n",
       "      <td>Unknown</td>\n",
       "      <td>0</td>\n",
       "    </tr>\n",
       "    <tr>\n",
       "      <th>996</th>\n",
       "      <td>53279</td>\n",
       "      <td>Male</td>\n",
       "      <td>0.24</td>\n",
       "      <td>0</td>\n",
       "      <td>0</td>\n",
       "      <td>No</td>\n",
       "      <td>children</td>\n",
       "      <td>Rural</td>\n",
       "      <td>118.87</td>\n",
       "      <td>16.3</td>\n",
       "      <td>Unknown</td>\n",
       "      <td>0</td>\n",
       "    </tr>\n",
       "    <tr>\n",
       "      <th>2898</th>\n",
       "      <td>64974</td>\n",
       "      <td>Male</td>\n",
       "      <td>0.24</td>\n",
       "      <td>0</td>\n",
       "      <td>0</td>\n",
       "      <td>No</td>\n",
       "      <td>children</td>\n",
       "      <td>Urban</td>\n",
       "      <td>58.35</td>\n",
       "      <td>18.6</td>\n",
       "      <td>Unknown</td>\n",
       "      <td>0</td>\n",
       "    </tr>\n",
       "    <tr>\n",
       "      <th>4293</th>\n",
       "      <td>69222</td>\n",
       "      <td>Male</td>\n",
       "      <td>0.24</td>\n",
       "      <td>0</td>\n",
       "      <td>0</td>\n",
       "      <td>No</td>\n",
       "      <td>children</td>\n",
       "      <td>Urban</td>\n",
       "      <td>57.09</td>\n",
       "      <td>19.4</td>\n",
       "      <td>Unknown</td>\n",
       "      <td>0</td>\n",
       "    </tr>\n",
       "    <tr>\n",
       "      <th>1999</th>\n",
       "      <td>42500</td>\n",
       "      <td>Male</td>\n",
       "      <td>0.24</td>\n",
       "      <td>0</td>\n",
       "      <td>0</td>\n",
       "      <td>No</td>\n",
       "      <td>children</td>\n",
       "      <td>Rural</td>\n",
       "      <td>146.97</td>\n",
       "      <td>18.5</td>\n",
       "      <td>Unknown</td>\n",
       "      <td>0</td>\n",
       "    </tr>\n",
       "  </tbody>\n",
       "</table>\n",
       "</div>"
      ],
      "text/plain": [
       "         id  gender   age  hypertension  heart_disease ever_married work_type  \\\n",
       "3295  29955    Male  0.08             0              0           No  children   \n",
       "1614  47350  Female  0.08             0              0           No  children   \n",
       "3618  22877    Male  0.16             0              0           No  children   \n",
       "4021   8247    Male  0.16             0              0           No  children   \n",
       "3968  41500    Male  0.16             0              0           No  children   \n",
       "3392  11371    Male  0.24             0              0           No  children   \n",
       "996   53279    Male  0.24             0              0           No  children   \n",
       "2898  64974    Male  0.24             0              0           No  children   \n",
       "4293  69222    Male  0.24             0              0           No  children   \n",
       "1999  42500    Male  0.24             0              0           No  children   \n",
       "\n",
       "     Residence_type  avg_glucose_level   bmi smoking_status  stroke  \n",
       "3295          Rural              70.33  16.9        Unknown       0  \n",
       "1614          Urban             139.67  14.1        Unknown       0  \n",
       "3618          Urban             114.71  17.4        Unknown       0  \n",
       "4021          Urban             109.52  13.9        Unknown       0  \n",
       "3968          Rural              69.79  13.0        Unknown       0  \n",
       "3392          Urban              89.28  14.2        Unknown       0  \n",
       "996           Rural             118.87  16.3        Unknown       0  \n",
       "2898          Urban              58.35  18.6        Unknown       0  \n",
       "4293          Urban              57.09  19.4        Unknown       0  \n",
       "1999          Rural             146.97  18.5        Unknown       0  "
      ]
     },
     "metadata": {},
     "output_type": "display_data"
    },
    {
     "data": {
      "text/plain": [
       "<AxesSubplot:>"
      ]
     },
     "execution_count": 6,
     "metadata": {},
     "output_type": "execute_result"
    },
    {
     "data": {
      "image/png": "[encoded data removed]",
      "text/plain": [
       "<Figure size 1800x720 with 2 Axes>"
      ]
     },
     "metadata": {
      "needs_background": "light"
     },
     "output_type": "display_data"
    },
    {
     "data": {
      "image/png": "[encoded data removed]",
      "text/plain": [
       "<Figure size 1800x720 with 2 Axes>"
      ]
     },
     "metadata": {
      "needs_background": "light"
     },
     "output_type": "display_data"
    }
   ],
   "source": [
    "#Sort by age\n",
    "age_sorted= data.sort_values(by= \"age\")\n",
    "display(age_sorted.head(10))\n",
    "msno.matrix(age_sorted)\n",
    "\n",
    "#Sort by avg glucose level\n",
    "gluc_sorted= data.sort_values(by= 'avg_glucose_level')\n",
    "msno.matrix(gluc_sorted)"
   ]
  },
  {
   "cell_type": "markdown",
   "metadata": {
    "papermill": {
     "duration": 0.027447,
     "end_time": "2021-10-11T10:00:12.343896",
     "exception": false,
     "start_time": "2021-10-11T10:00:12.316449",
     "status": "completed"
    },
    "tags": []
   },
   "source": [
    "It seems as though older participants and those with higher average glucose levels tend to have missing bmi values."
   ]
  },
  {
   "cell_type": "code",
   "execution_count": 7,
   "metadata": {
    "execution": {
     "iopub.execute_input": "2021-10-11T10:00:12.407691Z",
     "iopub.status.busy": "2021-10-11T10:00:12.406581Z",
     "iopub.status.idle": "2021-10-11T10:00:12.414501Z",
     "shell.execute_reply": "2021-10-11T10:00:12.414944Z",
     "shell.execute_reply.started": "2021-10-11T09:59:30.238262Z"
    },
    "papermill": {
     "duration": 0.044164,
     "end_time": "2021-10-11T10:00:12.415127",
     "exception": false,
     "start_time": "2021-10-11T10:00:12.370963",
     "status": "completed"
    },
    "tags": []
   },
   "outputs": [
    {
     "name": "stdout",
     "output_type": "stream",
     "text": [
      "Female    2994\n",
      "Male      2115\n",
      "Other        1\n",
      "Name: gender, dtype: int64\n",
      "['Female']\n",
      "['Male']\n",
      "Rate of missing bmi values for females: 3.24%\n",
      "Rate of missing bmi values for males: 4.92%\n"
     ]
    }
   ],
   "source": [
    "#Number of males and females\n",
    "print(data['gender'].value_counts())\n",
    "\n",
    "#Categorize data according to gender and check that gender only has one of the two categories\n",
    "data_female= data[data['gender']=='Female']\n",
    "print(data_female['gender'].unique())\n",
    "data_male= data[data['gender']=='Male']\n",
    "print(data_male['gender'].unique())\n",
    "\n",
    "\n",
    "#For female- number of null values in bmi\n",
    "f_null_values= data_female['bmi'].isna().sum()\n",
    "print(\"Rate of missing bmi values for females: \" + str(round(((f_null_values/2994)*100),2))+ \"%\")\n",
    "\n",
    "#For male\n",
    "m_null_values= data_male['bmi'].isna().sum()\n",
    "print(\"Rate of missing bmi values for males: \" + str(round(((m_null_values/2115)*100),2)) + \"%\")"
   ]
  },
  {
   "cell_type": "markdown",
   "metadata": {
    "execution": {
     "iopub.execute_input": "2021-10-11T07:12:29.446414Z",
     "iopub.status.busy": "2021-10-11T07:12:29.446123Z",
     "iopub.status.idle": "2021-10-11T07:12:29.452414Z",
     "shell.execute_reply": "2021-10-11T07:12:29.451454Z",
     "shell.execute_reply.started": "2021-10-11T07:12:29.446388Z"
    },
    "papermill": {
     "duration": 0.027732,
     "end_time": "2021-10-11T10:00:12.470549",
     "exception": false,
     "start_time": "2021-10-11T10:00:12.442817",
     "status": "completed"
    },
    "tags": []
   },
   "source": [
    "The difference isn't that obvious but let's do some more digging. Maybe plotting it would be more efficient.\n",
    "\n"
   ]
  },
  {
   "cell_type": "markdown",
   "metadata": {
    "papermill": {
     "duration": 0.02692,
     "end_time": "2021-10-11T10:00:12.524609",
     "exception": false,
     "start_time": "2021-10-11T10:00:12.497689",
     "status": "completed"
    },
    "tags": []
   },
   "source": [
    "## Age"
   ]
  },
  {
   "cell_type": "code",
   "execution_count": 8,
   "metadata": {
    "execution": {
     "iopub.execute_input": "2021-10-11T10:00:12.591074Z",
     "iopub.status.busy": "2021-10-11T10:00:12.585959Z",
     "iopub.status.idle": "2021-10-11T10:00:13.066143Z",
     "shell.execute_reply": "2021-10-11T10:00:13.066561Z",
     "shell.execute_reply.started": "2021-10-11T09:59:30.256045Z"
    },
    "papermill": {
     "duration": 0.514976,
     "end_time": "2021-10-11T10:00:13.066727",
     "exception": false,
     "start_time": "2021-10-11T10:00:12.551751",
     "status": "completed"
    },
    "tags": []
   },
   "outputs": [
    {
     "name": "stdout",
     "output_type": "stream",
     "text": [
      "       id  gender   age  hypertension  heart_disease ever_married  \\\n",
      "1   51676  Female  61.0             0              0          Yes   \n",
      "8   27419  Female  59.0             0              0          Yes   \n",
      "13   8213    Male  78.0             0              1          Yes   \n",
      "19  25226    Male  57.0             0              1           No   \n",
      "27  61843    Male  58.0             0              0          Yes   \n",
      "\n",
      "        work_type Residence_type  avg_glucose_level  bmi smoking_status  \\\n",
      "1   Self-employed          Rural             202.21  NaN   never smoked   \n",
      "8         Private          Rural              76.15  NaN        Unknown   \n",
      "13        Private          Urban             219.84  NaN        Unknown   \n",
      "19       Govt_job          Urban             217.08  NaN        Unknown   \n",
      "27        Private          Rural             189.84  NaN        Unknown   \n",
      "\n",
      "    stroke  \n",
      "1        1  \n",
      "8        1  \n",
      "13       1  \n",
      "19       1  \n",
      "27       1  \n"
     ]
    },
    {
     "data": {
      "text/plain": [
       "<AxesSubplot:ylabel='Frequency'>"
      ]
     },
     "execution_count": 8,
     "metadata": {},
     "output_type": "execute_result"
    },
    {
     "data": {
      "image/png": "[encoded data removed]",
      "text/plain": [
       "<Figure size 432x288 with 1 Axes>"
      ]
     },
     "metadata": {
      "needs_background": "light"
     },
     "output_type": "display_data"
    }
   ],
   "source": [
    "#Isolate data points with missing bmi values\n",
    "\n",
    "missing_bmi= data[data['bmi'].isna()]\n",
    "complete_bmi= data[~data['bmi'].isna()]\n",
    "print(missing_bmi.head(5))\n",
    "\n",
    "import matplotlib as plt\n",
    "\n",
    "missing_bmi['age'].plot(kind= 'hist', bins= 40, color= 'blue', alpha= 0.5)\n",
    "complete_bmi['age'].plot(kind= 'hist', bins= 40, color= 'red', alpha= 0.1)"
   ]
  },
  {
   "cell_type": "code",
   "execution_count": 9,
   "metadata": {
    "execution": {
     "iopub.execute_input": "2021-10-11T10:00:13.128489Z",
     "iopub.status.busy": "2021-10-11T10:00:13.126498Z",
     "iopub.status.idle": "2021-10-11T10:00:13.412989Z",
     "shell.execute_reply": "2021-10-11T10:00:13.412132Z",
     "shell.execute_reply.started": "2021-10-11T09:59:30.581017Z"
    },
    "papermill": {
     "duration": 0.317742,
     "end_time": "2021-10-11T10:00:13.413148",
     "exception": false,
     "start_time": "2021-10-11T10:00:13.095406",
     "status": "completed"
    },
    "tags": []
   },
   "outputs": [
    {
     "data": {
      "text/plain": [
       "<AxesSubplot:ylabel='Frequency'>"
      ]
     },
     "execution_count": 9,
     "metadata": {},
     "output_type": "execute_result"
    },
    {
     "data": {
      "image/png": "[encoded data removed]",
      "text/plain": [
       "<Figure size 432x288 with 1 Axes>"
      ]
     },
     "metadata": {
      "needs_background": "light"
     },
     "output_type": "display_data"
    }
   ],
   "source": [
    "missing_bmi['age'].plot(kind= 'hist', bins= 40, color= 'blue')"
   ]
  },
  {
   "cell_type": "markdown",
   "metadata": {
    "papermill": {
     "duration": 0.031394,
     "end_time": "2021-10-11T10:00:13.475859",
     "exception": false,
     "start_time": "2021-10-11T10:00:13.444465",
     "status": "completed"
    },
    "tags": []
   },
   "source": [
    "## Hypertension"
   ]
  },
  {
   "cell_type": "code",
   "execution_count": 10,
   "metadata": {
    "execution": {
     "iopub.execute_input": "2021-10-11T10:00:13.537295Z",
     "iopub.status.busy": "2021-10-11T10:00:13.536699Z",
     "iopub.status.idle": "2021-10-11T10:00:13.765448Z",
     "shell.execute_reply": "2021-10-11T10:00:13.764948Z",
     "shell.execute_reply.started": "2021-10-11T09:59:30.834819Z"
    },
    "papermill": {
     "duration": 0.260365,
     "end_time": "2021-10-11T10:00:13.765590",
     "exception": false,
     "start_time": "2021-10-11T10:00:13.505225",
     "status": "completed"
    },
    "tags": []
   },
   "outputs": [
    {
     "data": {
      "text/plain": [
       "<AxesSubplot:ylabel='Frequency'>"
      ]
     },
     "execution_count": 10,
     "metadata": {},
     "output_type": "execute_result"
    },
    {
     "data": {
      "image/png": "[encoded data removed]",
      "text/plain": [
       "<Figure size 432x288 with 1 Axes>"
      ]
     },
     "metadata": {
      "needs_background": "light"
     },
     "output_type": "display_data"
    }
   ],
   "source": [
    "missing_bmi['hypertension'].plot(kind= 'hist')"
   ]
  },
  {
   "cell_type": "code",
   "execution_count": 11,
   "metadata": {
    "execution": {
     "iopub.execute_input": "2021-10-11T10:00:13.847778Z",
     "iopub.status.busy": "2021-10-11T10:00:13.831556Z",
     "iopub.status.idle": "2021-10-11T10:00:14.041267Z",
     "shell.execute_reply": "2021-10-11T10:00:14.041742Z",
     "shell.execute_reply.started": "2021-10-11T09:59:31.025566Z"
    },
    "papermill": {
     "duration": 0.245992,
     "end_time": "2021-10-11T10:00:14.041915",
     "exception": false,
     "start_time": "2021-10-11T10:00:13.795923",
     "status": "completed"
    },
    "tags": []
   },
   "outputs": [
    {
     "data": {
      "text/plain": [
       "<AxesSubplot:ylabel='Frequency'>"
      ]
     },
     "execution_count": 11,
     "metadata": {},
     "output_type": "execute_result"
    },
    {
     "data": {
      "image/png": "[encoded data removed]",
      "text/plain": [
       "<Figure size 432x288 with 1 Axes>"
      ]
     },
     "metadata": {
      "needs_background": "light"
     },
     "output_type": "display_data"
    }
   ],
   "source": [
    "complete_bmi['hypertension'].plot(kind= 'hist')"
   ]
  },
  {
   "cell_type": "markdown",
   "metadata": {
    "papermill": {
     "duration": 0.030513,
     "end_time": "2021-10-11T10:00:14.103690",
     "exception": false,
     "start_time": "2021-10-11T10:00:14.073177",
     "status": "completed"
    },
    "tags": []
   },
   "source": [
    "## Heart disease"
   ]
  },
  {
   "cell_type": "code",
   "execution_count": 12,
   "metadata": {
    "execution": {
     "iopub.execute_input": "2021-10-11T10:00:14.169814Z",
     "iopub.status.busy": "2021-10-11T10:00:14.169207Z",
     "iopub.status.idle": "2021-10-11T10:00:14.394308Z",
     "shell.execute_reply": "2021-10-11T10:00:14.393651Z",
     "shell.execute_reply.started": "2021-10-11T09:59:31.192864Z"
    },
    "papermill": {
     "duration": 0.258577,
     "end_time": "2021-10-11T10:00:14.394452",
     "exception": false,
     "start_time": "2021-10-11T10:00:14.135875",
     "status": "completed"
    },
    "tags": []
   },
   "outputs": [
    {
     "data": {
      "text/plain": [
       "<AxesSubplot:ylabel='Frequency'>"
      ]
     },
     "execution_count": 12,
     "metadata": {},
     "output_type": "execute_result"
    },
    {
     "data": {
      "image/png": "[encoded data removed]",
      "text/plain": [
       "<Figure size 432x288 with 1 Axes>"
      ]
     },
     "metadata": {
      "needs_background": "light"
     },
     "output_type": "display_data"
    }
   ],
   "source": [
    "missing_bmi['heart_disease'].plot(kind= 'hist')"
   ]
  },
  {
   "cell_type": "markdown",
   "metadata": {
    "papermill": {
     "duration": 0.031061,
     "end_time": "2021-10-11T10:00:14.457318",
     "exception": false,
     "start_time": "2021-10-11T10:00:14.426257",
     "status": "completed"
    },
    "tags": []
   },
   "source": []
  },
  {
   "cell_type": "code",
   "execution_count": 13,
   "metadata": {
    "execution": {
     "iopub.execute_input": "2021-10-11T10:00:14.523564Z",
     "iopub.status.busy": "2021-10-11T10:00:14.522933Z",
     "iopub.status.idle": "2021-10-11T10:00:14.741779Z",
     "shell.execute_reply": "2021-10-11T10:00:14.742227Z",
     "shell.execute_reply.started": "2021-10-11T09:59:31.374654Z"
    },
    "papermill": {
     "duration": 0.25361,
     "end_time": "2021-10-11T10:00:14.742401",
     "exception": false,
     "start_time": "2021-10-11T10:00:14.488791",
     "status": "completed"
    },
    "tags": []
   },
   "outputs": [
    {
     "data": {
      "text/plain": [
       "<AxesSubplot:ylabel='Frequency'>"
      ]
     },
     "execution_count": 13,
     "metadata": {},
     "output_type": "execute_result"
    },
    {
     "data": {
      "image/png": "[encoded data removed]",
      "text/plain": [
       "<Figure size 432x288 with 1 Axes>"
      ]
     },
     "metadata": {
      "needs_background": "light"
     },
     "output_type": "display_data"
    }
   ],
   "source": [
    "complete_bmi['heart_disease'].plot(kind= 'hist')"
   ]
  },
  {
   "cell_type": "markdown",
   "metadata": {
    "execution": {
     "iopub.execute_input": "2021-10-11T09:40:56.673388Z",
     "iopub.status.busy": "2021-10-11T09:40:56.672480Z",
     "iopub.status.idle": "2021-10-11T09:40:56.677390Z",
     "shell.execute_reply": "2021-10-11T09:40:56.676434Z",
     "shell.execute_reply.started": "2021-10-11T09:40:56.673332Z"
    },
    "papermill": {
     "duration": 0.031761,
     "end_time": "2021-10-11T10:00:14.808284",
     "exception": false,
     "start_time": "2021-10-11T10:00:14.776523",
     "status": "completed"
    },
    "tags": []
   },
   "source": [
    "## Ever married"
   ]
  },
  {
   "cell_type": "code",
   "execution_count": 14,
   "metadata": {
    "execution": {
     "iopub.execute_input": "2021-10-11T10:00:14.893077Z",
     "iopub.status.busy": "2021-10-11T10:00:14.892390Z",
     "iopub.status.idle": "2021-10-11T10:00:15.051663Z",
     "shell.execute_reply": "2021-10-11T10:00:15.052115Z",
     "shell.execute_reply.started": "2021-10-11T09:59:31.533863Z"
    },
    "papermill": {
     "duration": 0.211964,
     "end_time": "2021-10-11T10:00:15.052287",
     "exception": false,
     "start_time": "2021-10-11T10:00:14.840323",
     "status": "completed"
    },
    "tags": []
   },
   "outputs": [
    {
     "data": {
      "text/plain": [
       "<AxesSubplot:>"
      ]
     },
     "execution_count": 14,
     "metadata": {},
     "output_type": "execute_result"
    },
    {
     "data": {
      "image/png": "[encoded data removed]",
      "text/plain": [
       "<Figure size 432x288 with 1 Axes>"
      ]
     },
     "metadata": {
      "needs_background": "light"
     },
     "output_type": "display_data"
    }
   ],
   "source": [
    "missing_bmi['ever_married'].value_counts().plot(kind= 'bar')"
   ]
  },
  {
   "cell_type": "code",
   "execution_count": 15,
   "metadata": {
    "execution": {
     "iopub.execute_input": "2021-10-11T10:00:15.140572Z",
     "iopub.status.busy": "2021-10-11T10:00:15.126132Z",
     "iopub.status.idle": "2021-10-11T10:00:15.296338Z",
     "shell.execute_reply": "2021-10-11T10:00:15.295828Z",
     "shell.execute_reply.started": "2021-10-11T09:59:31.672856Z"
    },
    "papermill": {
     "duration": 0.210972,
     "end_time": "2021-10-11T10:00:15.296475",
     "exception": false,
     "start_time": "2021-10-11T10:00:15.085503",
     "status": "completed"
    },
    "tags": []
   },
   "outputs": [
    {
     "data": {
      "text/plain": [
       "<AxesSubplot:>"
      ]
     },
     "execution_count": 15,
     "metadata": {},
     "output_type": "execute_result"
    },
    {
     "data": {
      "image/png": "[encoded data removed]",
      "text/plain": [
       "<Figure size 432x288 with 1 Axes>"
      ]
     },
     "metadata": {
      "needs_background": "light"
     },
     "output_type": "display_data"
    }
   ],
   "source": [
    "complete_bmi['ever_married'].value_counts().plot(kind= 'bar')"
   ]
  },
  {
   "cell_type": "code",
   "execution_count": 16,
   "metadata": {
    "execution": {
     "iopub.execute_input": "2021-10-11T10:00:15.397461Z",
     "iopub.status.busy": "2021-10-11T10:00:15.394590Z",
     "iopub.status.idle": "2021-10-11T10:00:15.554209Z",
     "shell.execute_reply": "2021-10-11T10:00:15.554620Z",
     "shell.execute_reply.started": "2021-10-11T09:59:31.804257Z"
    },
    "papermill": {
     "duration": 0.224023,
     "end_time": "2021-10-11T10:00:15.554786",
     "exception": false,
     "start_time": "2021-10-11T10:00:15.330763",
     "status": "completed"
    },
    "tags": []
   },
   "outputs": [
    {
     "data": {
      "text/plain": [
       "<AxesSubplot:>"
      ]
     },
     "execution_count": 16,
     "metadata": {},
     "output_type": "execute_result"
    },
    {
     "data": {
      "image/png": "[encoded data removed]",
      "text/plain": [
       "<Figure size 432x288 with 1 Axes>"
      ]
     },
     "metadata": {
      "needs_background": "light"
     },
     "output_type": "display_data"
    }
   ],
   "source": [
    "missing_bmi['work_type'].value_counts().plot(kind= 'bar')"
   ]
  },
  {
   "cell_type": "code",
   "execution_count": 17,
   "metadata": {
    "execution": {
     "iopub.execute_input": "2021-10-11T10:00:15.659379Z",
     "iopub.status.busy": "2021-10-11T10:00:15.642412Z",
     "iopub.status.idle": "2021-10-11T10:00:15.788321Z",
     "shell.execute_reply": "2021-10-11T10:00:15.789290Z",
     "shell.execute_reply.started": "2021-10-11T09:59:31.948400Z"
    },
    "papermill": {
     "duration": 0.200395,
     "end_time": "2021-10-11T10:00:15.789500",
     "exception": false,
     "start_time": "2021-10-11T10:00:15.589105",
     "status": "completed"
    },
    "tags": []
   },
   "outputs": [
    {
     "data": {
      "text/plain": [
       "<AxesSubplot:>"
      ]
     },
     "execution_count": 17,
     "metadata": {},
     "output_type": "execute_result"
    },
    {
     "data": {
      "image/png": "[encoded data removed]",
      "text/plain": [
       "<Figure size 432x288 with 1 Axes>"
      ]
     },
     "metadata": {
      "needs_background": "light"
     },
     "output_type": "display_data"
    }
   ],
   "source": [
    "complete_bmi['work_type'].value_counts().plot(kind= 'bar')"
   ]
  },
  {
   "cell_type": "code",
   "execution_count": 18,
   "metadata": {
    "execution": {
     "iopub.execute_input": "2021-10-11T10:00:15.900465Z",
     "iopub.status.busy": "2021-10-11T10:00:15.895838Z",
     "iopub.status.idle": "2021-10-11T10:00:15.991729Z",
     "shell.execute_reply": "2021-10-11T10:00:15.992191Z",
     "shell.execute_reply.started": "2021-10-11T09:59:32.102293Z"
    },
    "papermill": {
     "duration": 0.167407,
     "end_time": "2021-10-11T10:00:15.992367",
     "exception": false,
     "start_time": "2021-10-11T10:00:15.824960",
     "status": "completed"
    },
    "tags": []
   },
   "outputs": [
    {
     "data": {
      "text/plain": [
       "<AxesSubplot:>"
      ]
     },
     "execution_count": 18,
     "metadata": {},
     "output_type": "execute_result"
    },
    {
     "data": {
      "image/png": "[encoded data removed]",
      "text/plain": [
       "<Figure size 432x288 with 1 Axes>"
      ]
     },
     "metadata": {
      "needs_background": "light"
     },
     "output_type": "display_data"
    }
   ],
   "source": [
    "missing_bmi['Residence_type'].value_counts().plot(kind= 'bar')"
   ]
  },
  {
   "cell_type": "code",
   "execution_count": 19,
   "metadata": {
    "execution": {
     "iopub.execute_input": "2021-10-11T10:00:16.081269Z",
     "iopub.status.busy": "2021-10-11T10:00:16.080318Z",
     "iopub.status.idle": "2021-10-11T10:00:16.187900Z",
     "shell.execute_reply": "2021-10-11T10:00:16.188349Z",
     "shell.execute_reply.started": "2021-10-11T09:59:32.234315Z"
    },
    "papermill": {
     "duration": 0.159864,
     "end_time": "2021-10-11T10:00:16.188524",
     "exception": false,
     "start_time": "2021-10-11T10:00:16.028660",
     "status": "completed"
    },
    "tags": []
   },
   "outputs": [
    {
     "data": {
      "text/plain": [
       "<AxesSubplot:>"
      ]
     },
     "execution_count": 19,
     "metadata": {},
     "output_type": "execute_result"
    },
    {
     "data": {
      "image/png": "[encoded data removed]",
      "text/plain": [
       "<Figure size 432x288 with 1 Axes>"
      ]
     },
     "metadata": {
      "needs_background": "light"
     },
     "output_type": "display_data"
    }
   ],
   "source": [
    "complete_bmi['Residence_type'].value_counts().plot(kind= 'bar')"
   ]
  },
  {
   "cell_type": "code",
   "execution_count": 20,
   "metadata": {
    "execution": {
     "iopub.execute_input": "2021-10-11T10:00:16.266924Z",
     "iopub.status.busy": "2021-10-11T10:00:16.266036Z",
     "iopub.status.idle": "2021-10-11T10:00:16.403469Z",
     "shell.execute_reply": "2021-10-11T10:00:16.403957Z",
     "shell.execute_reply.started": "2021-10-11T09:59:32.368766Z"
    },
    "papermill": {
     "duration": 0.177774,
     "end_time": "2021-10-11T10:00:16.404150",
     "exception": false,
     "start_time": "2021-10-11T10:00:16.226376",
     "status": "completed"
    },
    "tags": []
   },
   "outputs": [
    {
     "data": {
      "text/plain": [
       "<AxesSubplot:>"
      ]
     },
     "execution_count": 20,
     "metadata": {},
     "output_type": "execute_result"
    },
    {
     "data": {
      "image/png": "[encoded data removed]",
      "text/plain": [
       "<Figure size 432x288 with 1 Axes>"
      ]
     },
     "metadata": {
      "needs_background": "light"
     },
     "output_type": "display_data"
    }
   ],
   "source": [
    "missing_bmi['smoking_status'].value_counts().plot(kind= 'bar')"
   ]
  },
  {
   "cell_type": "code",
   "execution_count": 21,
   "metadata": {
    "execution": {
     "iopub.execute_input": "2021-10-11T10:00:16.483269Z",
     "iopub.status.busy": "2021-10-11T10:00:16.482385Z",
     "iopub.status.idle": "2021-10-11T10:00:16.626788Z",
     "shell.execute_reply": "2021-10-11T10:00:16.627219Z",
     "shell.execute_reply.started": "2021-10-11T09:59:32.528296Z"
    },
    "papermill": {
     "duration": 0.185505,
     "end_time": "2021-10-11T10:00:16.627398",
     "exception": false,
     "start_time": "2021-10-11T10:00:16.441893",
     "status": "completed"
    },
    "tags": []
   },
   "outputs": [
    {
     "data": {
      "text/plain": [
       "<AxesSubplot:>"
      ]
     },
     "execution_count": 21,
     "metadata": {},
     "output_type": "execute_result"
    },
    {
     "data": {
      "image/png": "[encoded data removed]",
      "text/plain": [
       "<Figure size 432x288 with 1 Axes>"
      ]
     },
     "metadata": {
      "needs_background": "light"
     },
     "output_type": "display_data"
    }
   ],
   "source": [
    "complete_bmi['smoking_status'].value_counts().plot(kind= 'bar')"
   ]
  },
  {
   "cell_type": "code",
   "execution_count": 22,
   "metadata": {
    "execution": {
     "iopub.execute_input": "2021-10-11T10:00:16.707948Z",
     "iopub.status.busy": "2021-10-11T10:00:16.707059Z",
     "iopub.status.idle": "2021-10-11T10:00:16.840654Z",
     "shell.execute_reply": "2021-10-11T10:00:16.840148Z",
     "shell.execute_reply.started": "2021-10-11T09:59:32.691100Z"
    },
    "papermill": {
     "duration": 0.174937,
     "end_time": "2021-10-11T10:00:16.840789",
     "exception": false,
     "start_time": "2021-10-11T10:00:16.665852",
     "status": "completed"
    },
    "tags": []
   },
   "outputs": [
    {
     "data": {
      "text/plain": [
       "<AxesSubplot:>"
      ]
     },
     "execution_count": 22,
     "metadata": {},
     "output_type": "execute_result"
    },
    {
     "data": {
      "image/png": "[encoded data removed]",
      "text/plain": [
       "<Figure size 432x288 with 1 Axes>"
      ]
     },
     "metadata": {
      "needs_background": "light"
     },
     "output_type": "display_data"
    }
   ],
   "source": [
    "missing_bmi['stroke'].value_counts().plot(kind= 'bar')"
   ]
  },
  {
   "cell_type": "code",
   "execution_count": 23,
   "metadata": {
    "execution": {
     "iopub.execute_input": "2021-10-11T10:00:16.942473Z",
     "iopub.status.busy": "2021-10-11T10:00:16.941506Z",
     "iopub.status.idle": "2021-10-11T10:00:17.041724Z",
     "shell.execute_reply": "2021-10-11T10:00:17.042224Z",
     "shell.execute_reply.started": "2021-10-11T09:59:32.832498Z"
    },
    "papermill": {
     "duration": 0.162066,
     "end_time": "2021-10-11T10:00:17.042400",
     "exception": false,
     "start_time": "2021-10-11T10:00:16.880334",
     "status": "completed"
    },
    "tags": []
   },
   "outputs": [
    {
     "data": {
      "text/plain": [
       "<AxesSubplot:>"
      ]
     },
     "execution_count": 23,
     "metadata": {},
     "output_type": "execute_result"
    },
    {
     "data": {
      "image/png": "[encoded data removed]",
      "text/plain": [
       "<Figure size 432x288 with 1 Axes>"
      ]
     },
     "metadata": {
      "needs_background": "light"
     },
     "output_type": "display_data"
    }
   ],
   "source": [
    "complete_bmi['stroke'].value_counts().plot(kind= 'bar')"
   ]
  },
  {
   "cell_type": "markdown",
   "metadata": {
    "papermill": {
     "duration": 0.040428,
     "end_time": "2021-10-11T10:00:17.124351",
     "exception": false,
     "start_time": "2021-10-11T10:00:17.083923",
     "status": "completed"
    },
    "tags": []
   },
   "source": [
    "From our plots we gather a few things:\n",
    "* A higher number of stroke patients are made up of those with missing bmi data.\n",
    "* Those with missing bmi values tend to have hypertension, history of heart disease, and are older people. \n",
    "* There's a noticeable number of them who are self-employed as well.\n",
    "\n",
    "Since missing bmi values seem to have some significant correlation with the other values that are heavily correlated with the occurence of stroke. It would be wiser to input a value that is closer to those who are older, with hypertension, history of heart disease, and self-employed.\n"
   ]
  },
  {
   "cell_type": "markdown",
   "metadata": {
    "papermill": {
     "duration": 0.039527,
     "end_time": "2021-10-11T10:00:17.204698",
     "exception": false,
     "start_time": "2021-10-11T10:00:17.165171",
     "status": "completed"
    },
    "tags": []
   },
   "source": []
  }
 ],
 "metadata": {
  "kernelspec": {
   "display_name": "Python 3",
   "language": "python",
   "name": "python3"
  },
  "language_info": {
   "codemirror_mode": {
    "name": "ipython",
    "version": 3
   },
   "file_extension": ".py",
   "mimetype": "text/x-python",
   "name": "python",
   "nbconvert_exporter": "python",
   "pygments_lexer": "ipython3",
   "version": "3.8.5"
  },
  "papermill": {
   "default_parameters": {},
   "duration": 16.73101,
   "end_time": "2021-10-11T10:00:18.770966",
   "environment_variables": {},
   "exception": null,
   "input_path": "__notebook__.ipynb",
   "output_path": "__notebook__.ipynb",
   "parameters": {},
   "start_time": "2021-10-11T10:00:02.039956",
   "version": "2.3.3"
  }
 },
 "nbformat": 4,
 "nbformat_minor": 5
}
